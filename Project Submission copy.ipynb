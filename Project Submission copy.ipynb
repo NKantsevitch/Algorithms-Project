{
 "cells": [
  {
   "cell_type": "markdown",
   "id": "0dc4d7ba",
   "metadata": {},
   "source": [
    "# Bank Heist Project Submission"
   ]
  },
  {
   "cell_type": "markdown",
   "id": "6f45e6fe",
   "metadata": {},
   "source": [
    "**Description**\n",
    "\n",
    "Given a list of bank, their locations, the amount of money each bank holds, and the amount of time it would take to rob each bank; apply your knowledge of algorithms to make as much profit as possible!"
   ]
  },
  {
   "cell_type": "markdown",
   "id": "55fe7d14",
   "metadata": {},
   "source": [
    "**Design a solution that finds a list of banks that when robbed will maximize your profit, while following these constraints:**\n",
    "\n",
    "- Total time for robbery cannot exceed **24 hours**. This includes travel time between banks + time it takes to rob the bank + time it takes to get to the helicopter escape zone\n",
    "\n",
    "- Travel speed from one bank to another is **30 km/h**\n",
    "    - Use the x and y coordinates to calculate the distance (in km) between banks\n",
    "    - Use the distance and travel speed to calculate the amount of time it takes to get from one bank to another\n",
    "\n",
    "- Solution must run under **3 minutes**\n",
    "\n",
    "- You can start anywhere, but you have to end at the **helicopter escape zone** located at coordinates **(0,0)**"
   ]
  },
  {
   "cell_type": "markdown",
   "id": "86bfddb8",
   "metadata": {},
   "source": [
    "**Hints**\n",
    "\n",
    "Most of the design paradigms you saw in class will work for this. Start with something that's easier (brute-force or greedy algorithm) and then work towards a better design once it works:\n",
    "\n",
    "    - Divide-and-conquer\n",
    "    - Brute Force\n",
    "    - Greedy Algorithm\n",
    "    - Dynamic Programming\n",
    "    - Backtracking\n",
    "    - Breadth-first & Depth-first search\n",
    "Some we haven't covered:\n",
    "\n",
    "    - Branch & Bound\n",
    "    - Prune & Search\n",
    "    \n",
    "Because there are too many banks at each step, you will need to select only some candidates to explore.\n",
    "\n",
    "If you find yourself using a nearest-neighbors type of approach, consider using a KD-Tree or a Ball Tree to speed it up.\n",
    "\n",
    "There are good implementations of KD-Trees and nearest neighbours in scipy, sklearn and this [library](https://github.com/lmcinnes/pynndescent)\n",
    "\n",
    "You can work your algorithm backwards (starting at the end and backing up to the starting point) or forwards (finding a starting point and looping until there is no time left). They will lead to different designs and results."
   ]
  },
  {
   "cell_type": "markdown",
   "id": "9cd5334f",
   "metadata": {},
   "source": [
    "## Step 1: Imports\n",
    "\n",
    "You can import the libraries you intend on using here or as you go along."
   ]
  },
  {
   "cell_type": "code",
   "execution_count": 1,
   "id": "59fc734d",
   "metadata": {},
   "outputs": [],
   "source": [
    "import pandas as pd\n",
    "import math\n",
    "import time"
   ]
  },
  {
   "cell_type": "markdown",
   "id": "56317788",
   "metadata": {},
   "source": [
    "## Step 2: Load Data\n",
    "\n",
    "The `bank_data.csv` file is located in the **data** folder. Make sure you use the correct path."
   ]
  },
  {
   "cell_type": "code",
   "execution_count": 2,
   "id": "4a308a28",
   "metadata": {},
   "outputs": [],
   "source": [
    "df = pd.read_csv('data/bank_data.csv')"
   ]
  },
  {
   "cell_type": "markdown",
   "id": "68db7233",
   "metadata": {},
   "source": [
    "## Step 3: Data Exploration\n",
    "\n",
    "Explore the data set to get a general understanding of what you're working with.\n",
    "\n",
    "Feel free to add additional cells, and remove the ones you don't use."
   ]
  },
  {
   "cell_type": "code",
   "execution_count": 3,
   "id": "e6f8a320",
   "metadata": {},
   "outputs": [
    {
     "name": "stdout",
     "output_type": "stream",
     "text": [
      "<class 'pandas.core.frame.DataFrame'>\n",
      "RangeIndex: 10000 entries, 0 to 9999\n",
      "Data columns (total 5 columns):\n",
      " #   Column        Non-Null Count  Dtype  \n",
      "---  ------        --------------  -----  \n",
      " 0   id            10000 non-null  int64  \n",
      " 1   x_coordinate  10000 non-null  float64\n",
      " 2   y_coordinate  10000 non-null  float64\n",
      " 3   money         10000 non-null  int64  \n",
      " 4   time (hr)     10000 non-null  float64\n",
      "dtypes: float64(3), int64(2)\n",
      "memory usage: 390.8 KB\n"
     ]
    }
   ],
   "source": [
    "df.info()"
   ]
  },
  {
   "cell_type": "code",
   "execution_count": 4,
   "id": "a129951f",
   "metadata": {},
   "outputs": [
    {
     "data": {
      "text/html": [
       "<div>\n",
       "<style scoped>\n",
       "    .dataframe tbody tr th:only-of-type {\n",
       "        vertical-align: middle;\n",
       "    }\n",
       "\n",
       "    .dataframe tbody tr th {\n",
       "        vertical-align: top;\n",
       "    }\n",
       "\n",
       "    .dataframe thead th {\n",
       "        text-align: right;\n",
       "    }\n",
       "</style>\n",
       "<table border=\"1\" class=\"dataframe\">\n",
       "  <thead>\n",
       "    <tr style=\"text-align: right;\">\n",
       "      <th></th>\n",
       "      <th>id</th>\n",
       "      <th>x_coordinate</th>\n",
       "      <th>y_coordinate</th>\n",
       "      <th>money</th>\n",
       "      <th>time (hr)</th>\n",
       "    </tr>\n",
       "  </thead>\n",
       "  <tbody>\n",
       "    <tr>\n",
       "      <th>0</th>\n",
       "      <td>0</td>\n",
       "      <td>2.851925</td>\n",
       "      <td>1.201712</td>\n",
       "      <td>29700</td>\n",
       "      <td>0.273403</td>\n",
       "    </tr>\n",
       "    <tr>\n",
       "      <th>1</th>\n",
       "      <td>1</td>\n",
       "      <td>4.150372</td>\n",
       "      <td>-2.654334</td>\n",
       "      <td>6500</td>\n",
       "      <td>0.064040</td>\n",
       "    </tr>\n",
       "    <tr>\n",
       "      <th>2</th>\n",
       "      <td>2</td>\n",
       "      <td>-1.494092</td>\n",
       "      <td>-1.230419</td>\n",
       "      <td>89400</td>\n",
       "      <td>0.127458</td>\n",
       "    </tr>\n",
       "    <tr>\n",
       "      <th>3</th>\n",
       "      <td>3</td>\n",
       "      <td>1.271326</td>\n",
       "      <td>-0.088520</td>\n",
       "      <td>96100</td>\n",
       "      <td>1.315029</td>\n",
       "    </tr>\n",
       "    <tr>\n",
       "      <th>4</th>\n",
       "      <td>4</td>\n",
       "      <td>2.471113</td>\n",
       "      <td>-0.592810</td>\n",
       "      <td>41100</td>\n",
       "      <td>0.164393</td>\n",
       "    </tr>\n",
       "  </tbody>\n",
       "</table>\n",
       "</div>"
      ],
      "text/plain": [
       "   id  x_coordinate  y_coordinate  money  time (hr)\n",
       "0   0      2.851925      1.201712  29700   0.273403\n",
       "1   1      4.150372     -2.654334   6500   0.064040\n",
       "2   2     -1.494092     -1.230419  89400   0.127458\n",
       "3   3      1.271326     -0.088520  96100   1.315029\n",
       "4   4      2.471113     -0.592810  41100   0.164393"
      ]
     },
     "execution_count": 4,
     "metadata": {},
     "output_type": "execute_result"
    }
   ],
   "source": [
    "df.head()"
   ]
  },
  {
   "cell_type": "markdown",
   "id": "3ba2022c",
   "metadata": {},
   "source": [
    "## Step 4: Solution \n",
    "\n",
    "Your solution must provide:\n",
    "\n",
    "- A list of bank IDs in order that you rob them\n",
    "- Total amount you were able to rob\n",
    "- Time it took to rob + escape\n",
    "- The execution time for your code to run\n",
    "\n",
    "**Important: Your solution must respect all the constraints mentioned in the description.**\n",
    "\n",
    "Feel free to add additional cells, and remove the ones you don't use."
   ]
  },
  {
   "cell_type": "code",
   "execution_count": 5,
   "id": "051de83d",
   "metadata": {},
   "outputs": [
    {
     "name": "stdout",
     "output_type": "stream",
     "text": [
      "Elapsed time (in seconds): 13.653534889221191\n",
      "Total money: 13775300.0\n",
      "Total time: 23.874985779049272\n",
      "Total banks robbed: 265\n",
      "Banks robbed: [1318, 7769, 3773, 3237, 8887, 6566, 2444, 5381, 1723, 1926, 5200, 2590, 5892, 4492, 2859, 9469, 9275, 5327, 6852, 8949, 2162, 488, 2226, 4617, 6934, 3007, 3044, 2463, 4494, 1684, 1081, 6266, 4629, 3585, 232, 9448, 9713, 6339, 2442, 2626, 9640, 5166, 7665, 8846, 8231, 4807, 3582, 5572, 4794, 6535, 8859, 2190, 6764, 5836, 5298, 3665, 507, 6022, 7744, 8125, 1976, 2185, 6876, 9130, 6169, 279, 6623, 8784, 5474, 3239, 3216, 6591, 1053, 3484, 1424, 781, 8870, 3919, 2344, 1844, 1860, 8503, 1961, 4036, 4056, 4291, 757, 9170, 5184, 6478, 2458, 4610, 5631, 2, 7801, 5627, 839, 3971, 1966, 3340, 4359, 5971, 2639, 7494, 1455, 6254, 557, 359, 754, 6375, 7907, 5440, 4364, 7772, 5944, 2472, 5725, 9880, 5563, 8288, 4742, 4983, 1058, 8703, 2643, 8829, 4362, 4234, 3186, 6216, 9529, 7877, 7689, 1599, 9908, 1193, 8849, 3026, 8407, 1447, 7265, 8908, 7531, 5356, 3025, 4293, 6104, 2827, 4287, 4605, 2194, 9928, 8169, 6281, 7087, 4906, 1397, 6156, 5296, 5126, 9049, 2741, 2346, 4627, 4465, 5155, 9736, 8206, 2656, 8966, 3297, 9401, 8469, 6987, 4345, 5610, 5562, 3516, 6317, 5622, 9290, 517, 7649, 7764, 7701, 2729, 7074, 6740, 7258, 7064, 4696, 4789, 8355, 1757, 2243, 9779, 3605, 8375, 5719, 613, 1997, 6759, 9653, 6712, 2037, 9455, 8022, 3193, 8525, 3926, 2521, 2331, 8286, 299, 4762, 6468, 5295, 1914, 8579, 7583, 3005, 790, 70, 3089, 9228, 524, 7595, 1733, 9881, 1372, 951, 58, 433, 209, 5135, 3914, 8562, 444, 3466, 865, 9583, 9378, 2928, 9241, 4725, 7544, 8287, 6097, 8436, 8690, 4757, 4499, 487, 7343, 7560, 5933, 3803, 8550, 6528, 3798, 4987, 9195, 9546, 3613, 'Exit Point (0, 0)']\n"
     ]
    }
   ],
   "source": [
    "# Function to calculate the Euclidean distance between two points\n",
    "def distance(x1, y1, x2, y2):\n",
    "    return math.sqrt((x2 - x1)**2 + (y2 - y1)**2)\n",
    "\n",
    "# Function to calculate travel time given a distance, assuming a speed of 30 km/h\n",
    "def travel_time(dist):\n",
    "    return dist / 30\n",
    "\n",
    "# Add a new column 'profitability_ratio' which is the money each bank holds divided by the time it takes to rob it\n",
    "df['profitability_ratio'] = df['money'] / df['time (hr)']\n",
    "\n",
    "total_money = 0\n",
    "total_time = 0\n",
    "current_position = (0, 0)\n",
    "selected_banks = []\n",
    "\n",
    "\n",
    "start_time = time.time()\n",
    "\n",
    "# Select banks as long as the total time is less than 24 hours\n",
    "while total_time < 24 and not df.empty:\n",
    "    # Calculate the distance from the current position to each bank and the profitability-to-distance ratio\n",
    "    df['distance'] = df.apply(lambda row: distance(current_position[0], current_position[1], row['x_coordinate'], row['y_coordinate']), axis=1)\n",
    "    df['profitability_distance_ratio'] = df['profitability_ratio'] / df['distance']\n",
    "    \n",
    "    # Select the most profitable bank (among the top 90) based on the profitability to distance ratio\n",
    "    df_top = df.nlargest(90, 'profitability_ratio').nlargest(1, 'profitability_distance_ratio')\n",
    "\n",
    "    # Choose the selected bank and calculate the time to travel to this bank\n",
    "    selected_bank = df_top.iloc[0]\n",
    "    time_to_bank = travel_time(selected_bank['distance'])\n",
    "    # Calculate the total time including traveling to and robbing the selected bank\n",
    "    potential_total_time = total_time + time_to_bank + selected_bank['time (hr)']\n",
    "\n",
    "    # Check if robbing this bank keeps the total time within 24 hours\n",
    "    if potential_total_time + travel_time(selected_bank['distance']) <= 24:\n",
    "        # Add the money from the bank to the total, update the total time and current position\n",
    "        total_money += selected_bank['money']\n",
    "        total_time = potential_total_time\n",
    "        current_position = (selected_bank['x_coordinate'], selected_bank['y_coordinate'])\n",
    "        \n",
    "        # Insert the bank ID at the beginning of the list\n",
    "        selected_banks.insert(0, int(selected_bank['id']))\n",
    "\n",
    "        # Remove the robbed bank from the DataFrame\n",
    "        df = df[df['id'] != selected_bank['id']]\n",
    "    else:\n",
    "        # If adding this bank exceeds the time limit, break the loop\n",
    "        break\n",
    "\n",
    "selected_banks.append(\"Exit Point (0, 0)\")\n",
    "\n",
    "end_time = time.time()\n",
    "\n",
    "elapsed_time = end_time - start_time\n",
    "print(\"Elapsed time (in seconds):\", elapsed_time)\n",
    "\n",
    "\n",
    "print(\"Total money:\", total_money)\n",
    "print(\"Total time:\", total_time)\n",
    "print(\"Total banks robbed:\", len(selected_banks))\n",
    "print(\"Banks robbed:\", selected_banks)"
   ]
  },
  {
   "cell_type": "markdown",
   "id": "c74e14fe",
   "metadata": {},
   "source": [
    "### Briefly explain your solution/approach, and how it works."
   ]
  },
  {
   "cell_type": "markdown",
   "id": "8349a89b",
   "metadata": {},
   "source": [
    "I sorted my data with a ratio of the profitability and the distance to the next bank. I chose the 90 top banks as it seemed to be the optimal number without breaking my code. I started at the escape point and worked my way backwards, adding each new bank to the beginning of the list."
   ]
  },
  {
   "cell_type": "markdown",
   "id": "d61fba7a",
   "metadata": {},
   "source": [
    "## Step 5: Summary and Results"
   ]
  },
  {
   "cell_type": "markdown",
   "id": "679b4cf0",
   "metadata": {},
   "source": [
    "1. What is the total amount of money you were able to collect?\n"
   ]
  },
  {
   "cell_type": "code",
   "execution_count": 6,
   "id": "7dadad36",
   "metadata": {},
   "outputs": [
    {
     "data": {
      "text/plain": [
       "13775300.0"
      ]
     },
     "execution_count": 6,
     "metadata": {},
     "output_type": "execute_result"
    }
   ],
   "source": [
    "total_money"
   ]
  },
  {
   "cell_type": "markdown",
   "id": "5a66e503",
   "metadata": {},
   "source": [
    "2. What are the IDs of the banks you robbed, in order? Use the list from your solution."
   ]
  },
  {
   "cell_type": "code",
   "execution_count": 7,
   "id": "d24072b4",
   "metadata": {},
   "outputs": [
    {
     "name": "stdout",
     "output_type": "stream",
     "text": [
      "[1318, 7769, 3773, 3237, 8887, 6566, 2444, 5381, 1723, 1926, 5200, 2590, 5892, 4492, 2859, 9469, 9275, 5327, 6852, 8949, 2162, 488, 2226, 4617, 6934, 3007, 3044, 2463, 4494, 1684, 1081, 6266, 4629, 3585, 232, 9448, 9713, 6339, 2442, 2626, 9640, 5166, 7665, 8846, 8231, 4807, 3582, 5572, 4794, 6535, 8859, 2190, 6764, 5836, 5298, 3665, 507, 6022, 7744, 8125, 1976, 2185, 6876, 9130, 6169, 279, 6623, 8784, 5474, 3239, 3216, 6591, 1053, 3484, 1424, 781, 8870, 3919, 2344, 1844, 1860, 8503, 1961, 4036, 4056, 4291, 757, 9170, 5184, 6478, 2458, 4610, 5631, 2, 7801, 5627, 839, 3971, 1966, 3340, 4359, 5971, 2639, 7494, 1455, 6254, 557, 359, 754, 6375, 7907, 5440, 4364, 7772, 5944, 2472, 5725, 9880, 5563, 8288, 4742, 4983, 1058, 8703, 2643, 8829, 4362, 4234, 3186, 6216, 9529, 7877, 7689, 1599, 9908, 1193, 8849, 3026, 8407, 1447, 7265, 8908, 7531, 5356, 3025, 4293, 6104, 2827, 4287, 4605, 2194, 9928, 8169, 6281, 7087, 4906, 1397, 6156, 5296, 5126, 9049, 2741, 2346, 4627, 4465, 5155, 9736, 8206, 2656, 8966, 3297, 9401, 8469, 6987, 4345, 5610, 5562, 3516, 6317, 5622, 9290, 517, 7649, 7764, 7701, 2729, 7074, 6740, 7258, 7064, 4696, 4789, 8355, 1757, 2243, 9779, 3605, 8375, 5719, 613, 1997, 6759, 9653, 6712, 2037, 9455, 8022, 3193, 8525, 3926, 2521, 2331, 8286, 299, 4762, 6468, 5295, 1914, 8579, 7583, 3005, 790, 70, 3089, 9228, 524, 7595, 1733, 9881, 1372, 951, 58, 433, 209, 5135, 3914, 8562, 444, 3466, 865, 9583, 9378, 2928, 9241, 4725, 7544, 8287, 6097, 8436, 8690, 4757, 4499, 487, 7343, 7560, 5933, 3803, 8550, 6528, 3798, 4987, 9195, 9546, 3613, 'Exit Point (0, 0)']\n"
     ]
    }
   ],
   "source": [
    "print(selected_banks)"
   ]
  },
  {
   "cell_type": "markdown",
   "id": "32255ec6",
   "metadata": {},
   "source": [
    "3. How much time did it take to rob all the banks + escape? Does your solution meet the 24 hour constraint? "
   ]
  },
  {
   "cell_type": "code",
   "execution_count": 8,
   "id": "2def9990",
   "metadata": {},
   "outputs": [
    {
     "data": {
      "text/plain": [
       "23.874985779049272"
      ]
     },
     "execution_count": 8,
     "metadata": {},
     "output_type": "execute_result"
    }
   ],
   "source": [
    "total_time"
   ]
  },
  {
   "cell_type": "markdown",
   "id": "b4781639",
   "metadata": {},
   "source": [
    "4. What is the execution time of your solution? Does your solution run in 3 minutes or less?"
   ]
  },
  {
   "cell_type": "code",
   "execution_count": 9,
   "id": "911bc00c",
   "metadata": {},
   "outputs": [
    {
     "data": {
      "text/plain": [
       "13.653534889221191"
      ]
     },
     "execution_count": 9,
     "metadata": {},
     "output_type": "execute_result"
    }
   ],
   "source": [
    "elapsed_time"
   ]
  }
 ],
 "metadata": {
  "kernelspec": {
   "display_name": "Python 3 (ipykernel)",
   "language": "python",
   "name": "python3"
  },
  "language_info": {
   "codemirror_mode": {
    "name": "ipython",
    "version": 3
   },
   "file_extension": ".py",
   "mimetype": "text/x-python",
   "name": "python",
   "nbconvert_exporter": "python",
   "pygments_lexer": "ipython3",
   "version": "3.11.3"
  }
 },
 "nbformat": 4,
 "nbformat_minor": 5
}
